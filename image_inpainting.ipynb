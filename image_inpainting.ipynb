{
  "nbformat": 4,
  "nbformat_minor": 0,
  "metadata": {
    "colab": {
      "name": "image-inpainting.ipynb",
      "version": "0.3.2",
      "provenance": [],
      "collapsed_sections": []
    },
    "kernelspec": {
      "name": "python3",
      "display_name": "Python 3"
    },
    "accelerator": "GPU"
  },
  "cells": [
    {
      "cell_type": "markdown",
      "metadata": {
        "id": "nyMlKXNh3-BO",
        "colab_type": "text"
      },
      "source": [
        "An encoder-decoder network can be trained to generate the contents of an arbitrary image region conditioned on its surroundings. The model can only suceed at this task if it both understands the content of the entire image, as well as produces a plausible hypothesis for the missing parts.\n",
        "\n",
        "The self-supervision in the form of context inpainting is obtained with no cost and is very effective in learning useful representations."
      ]
    },
    {
      "cell_type": "markdown",
      "metadata": {
        "id": "BMPdAhP43zV1",
        "colab_type": "text"
      },
      "source": [
        "Download the part_labels dataset. 5,000 images are used for pre-training the network for context inpainting task which can later be used for face parsing.\n",
        "\n",
        "Run using google colab."
      ]
    },
    {
      "cell_type": "code",
      "metadata": {
        "id": "pyTgAIwbdpvV",
        "colab_type": "code",
        "outputId": "1d42b950-af2f-40d9-c293-e49f38224a04",
        "colab": {
          "base_uri": "https://localhost:8080/",
          "height": 322
        }
      },
      "source": [
        "!wget -nc --load-cookies /tmp/cookies.txt \"https://docs.google.com/uc?export=download&confirm=$(wget --quiet --save-cookies /tmp/cookies.txt --keep-session-cookies --no-check-certificate 'https://docs.google.com/uc?export=download&id=1KliNy-Jx-_ZaK12pm8BA2qKAJOt0483_' -O- | sed -rn 's/.*confirm=([0-9A-Za-z_]+).*/\\1\\n/p')&id=1KliNy-Jx-_ZaK12pm8BA2qKAJOt0483_\" -O part_labels.zip && rm -rf /tmp/cookies.txt"
      ],
      "execution_count": 0,
      "outputs": [
        {
          "output_type": "stream",
          "text": [
            "--2019-08-05 11:09:53--  https://docs.google.com/uc?export=download&confirm=wHXI&id=1KliNy-Jx-_ZaK12pm8BA2qKAJOt0483_\n",
            "Resolving docs.google.com (docs.google.com)... 74.125.142.102, 74.125.142.101, 74.125.142.139, ...\n",
            "Connecting to docs.google.com (docs.google.com)|74.125.142.102|:443... connected.\n",
            "HTTP request sent, awaiting response... 302 Moved Temporarily\n",
            "Location: https://doc-04-74-docs.googleusercontent.com/docs/securesc/ha0ro937gcuc7l7deffksulhg5h7mbp1/5uba9fv0pfekntr7n2l7ep7qnnmp777m/1564999200000/10570413806168058073/*/1KliNy-Jx-_ZaK12pm8BA2qKAJOt0483_?e=download [following]\n",
            "Warning: wildcards not supported in HTTP.\n",
            "--2019-08-05 11:09:53--  https://doc-04-74-docs.googleusercontent.com/docs/securesc/ha0ro937gcuc7l7deffksulhg5h7mbp1/5uba9fv0pfekntr7n2l7ep7qnnmp777m/1564999200000/10570413806168058073/*/1KliNy-Jx-_ZaK12pm8BA2qKAJOt0483_?e=download\n",
            "Resolving doc-04-74-docs.googleusercontent.com (doc-04-74-docs.googleusercontent.com)... 74.125.142.132, 2607:f8b0:400e:c08::84\n",
            "Connecting to doc-04-74-docs.googleusercontent.com (doc-04-74-docs.googleusercontent.com)|74.125.142.132|:443... connected.\n",
            "HTTP request sent, awaiting response... 200 OK\n",
            "Length: unspecified [application/zip]\n",
            "Saving to: ‘part_labels.zip’\n",
            "\n",
            "part_labels.zip         [            <=>     ] 117.10M  52.8MB/s    in 2.2s    \n",
            "\n",
            "2019-08-05 11:09:55 (52.8 MB/s) - ‘part_labels.zip’ saved [122793941]\n",
            "\n"
          ],
          "name": "stdout"
        }
      ]
    },
    {
      "cell_type": "code",
      "metadata": {
        "id": "BNp7HMQveSUi",
        "colab_type": "code",
        "colab": {}
      },
      "source": [
        "!unzip part_labels.zip"
      ],
      "execution_count": 0,
      "outputs": []
    },
    {
      "cell_type": "markdown",
      "metadata": {
        "id": "qdC7tc0D4Rvw",
        "colab_type": "text"
      },
      "source": [
        "Download the helper modules from this github [link](https://github.com/tumble-weed/suriya-self-supervised)."
      ]
    },
    {
      "cell_type": "code",
      "metadata": {
        "id": "8J3-jrxogvrO",
        "colab_type": "code",
        "outputId": "c57b3e27-3b2c-49a8-ff3f-f05e25db1271",
        "colab": {
          "base_uri": "https://localhost:8080/",
          "height": 118
        }
      },
      "source": [
        "!git clone https://github.com/tumble-weed/suriya-self-supervised.git\n",
        "!mv suriya-self-supervised/*.py .\n",
        "!rm -rf suriya-self-supervised"
      ],
      "execution_count": 0,
      "outputs": [
        {
          "output_type": "stream",
          "text": [
            "Cloning into 'suriya-self-supervised'...\n",
            "remote: Enumerating objects: 9, done.\u001b[K\n",
            "remote: Counting objects:  11% (1/9)   \u001b[K\rremote: Counting objects:  22% (2/9)   \u001b[K\rremote: Counting objects:  33% (3/9)   \u001b[K\rremote: Counting objects:  44% (4/9)   \u001b[K\rremote: Counting objects:  55% (5/9)   \u001b[K\rremote: Counting objects:  66% (6/9)   \u001b[K\rremote: Counting objects:  77% (7/9)   \u001b[K\rremote: Counting objects:  88% (8/9)   \u001b[K\rremote: Counting objects: 100% (9/9)   \u001b[K\rremote: Counting objects: 100% (9/9), done.\u001b[K\n",
            "remote: Compressing objects:  12% (1/8)   \u001b[K\rremote: Compressing objects:  25% (2/8)   \u001b[K\rremote: Compressing objects:  37% (3/8)   \u001b[K\rremote: Compressing objects:  50% (4/8)   \u001b[K\rremote: Compressing objects:  62% (5/8)   \u001b[K\rremote: Compressing objects:  75% (6/8)   \u001b[K\rremote: Compressing objects:  87% (7/8)   \u001b[K\rremote: Compressing objects: 100% (8/8)   \u001b[K\rremote: Compressing objects: 100% (8/8), done.\u001b[K\n",
            "remote: Total 9 (delta 0), reused 0 (delta 0), pack-reused 0\u001b[K\n",
            "Unpacking objects:  11% (1/9)   \rUnpacking objects:  22% (2/9)   \rUnpacking objects:  33% (3/9)   \rUnpacking objects:  44% (4/9)   \rUnpacking objects:  55% (5/9)   \rUnpacking objects:  66% (6/9)   \rUnpacking objects:  77% (7/9)   \rUnpacking objects:  88% (8/9)   \rUnpacking objects: 100% (9/9)   \rUnpacking objects: 100% (9/9), done.\n"
          ],
          "name": "stdout"
        }
      ]
    },
    {
      "cell_type": "code",
      "metadata": {
        "id": "mgdMzoh-ZAER",
        "colab_type": "code",
        "colab": {}
      },
      "source": [
        "import torch\n",
        "import torch.optim as optim\n",
        "import torchvision\n",
        "import torchvision.transforms as transforms\n",
        "from torch.autograd import Variable\n",
        "import torch.nn as nn\n",
        "\n",
        "from enc_dec import encoder_decoder\n",
        "from utils import *\n",
        "import matplotlib.pyplot as plt\n",
        "DATA_ROOT = './'"
      ],
      "execution_count": 0,
      "outputs": []
    },
    {
      "cell_type": "code",
      "metadata": {
        "id": "qlVurc2Ml-34",
        "colab_type": "code",
        "colab": {}
      },
      "source": [
        "import os.path as osp\n",
        "\n",
        "import numpy as np\n",
        "import cv2\n",
        "import torch\n",
        "from torch.utils import data\n",
        "from random import shuffle\n",
        "import os.path\n",
        "import os\n",
        "import copy\n",
        "import math"
      ],
      "execution_count": 0,
      "outputs": []
    },
    {
      "cell_type": "code",
      "metadata": {
        "id": "hg9yX0cUsZfh",
        "colab_type": "code",
        "colab": {}
      },
      "source": [
        "train_img_root = DATA_ROOT + 'part_labels/data/all/'\n",
        "train_image_list = DATA_ROOT + 'part_labels/splits/train_unlabeled_5k.txt'\n",
        "\n",
        "val_img_root = DATA_ROOT + 'part_labels/data/all/'\n",
        "val_image_list = DATA_ROOT + 'part_labels/splits/val_unlabeled_500.txt'"
      ],
      "execution_count": 0,
      "outputs": []
    },
    {
      "cell_type": "code",
      "metadata": {
        "id": "6rjH3EhPjTYe",
        "colab_type": "code",
        "colab": {}
      },
      "source": [
        "class ContextInpaintingDataset(data.Dataset):\n",
        "    \n",
        "    def __init__(self, img_root, image_list, mirror = True, \n",
        "        context_shape = [32, 32], context_count = 4, split = 'train'):\n",
        "\n",
        "        self.img_root = img_root\n",
        "        self.split = split\n",
        "        self.image_list = [line.rstrip('\\n') for line in open(image_list)]\n",
        "\n",
        "        self.mirror = mirror\n",
        "        self.context_shape = context_shape\n",
        "        self.context_count = context_count\n",
        "\n",
        "        self.mean_bgr = np.array([104.00698793, 116.66876762, 122.67891434]) # because we are reading using cv2\n",
        "        self.std_bgr = 255*np.array([0.229, 0.224, 0.225])\n",
        "\n",
        "\n",
        "        self.files = {}\n",
        "        if self.split not in self.files.keys():\n",
        "            self.files[self.split] = []\n",
        "        for f in self.image_list:\n",
        "\n",
        "            self.files[self.split].append({'img': img_root+f, 'lbl': 0})\n",
        "        \n",
        "    def __len__(self):\n",
        "        return len(self.files[self.split])\n",
        "\n",
        "    def __getitem__(self, index):\n",
        "        image_file_name = self.img_root + self.image_list[index]\n",
        "        \n",
        "        image = None\n",
        "        if os.path.isfile(image_file_name):\n",
        "            image = cv2.imread(image_file_name)\n",
        "        else:\n",
        "            print('ERROR: couldn\\'t find image -> ', image_file_name)\n",
        "            \n",
        "        if self.mirror: # randomly flip the image\n",
        "            flip = torch.LongTensor(1).random_(0, 2)[0]*2-1 # complicated way of either -1, 1\n",
        "            image = image[:, ::flip, :]\n",
        "\n",
        "        ''' '''\n",
        "        context_shape = self.context_shape\n",
        "        context_mask = np.zeros((3, image.shape[0], image.shape[1]), np.uint8)\n",
        "\n",
        "        ''' '''\n",
        "        if self.context_count == 1:\n",
        "            left = image.shape[0]/2 - context_shape[0]/2 #left of center patch\n",
        "            context_mask[:, left:left+context_shape[0], left:left+context_shape[1]] = 1 # mask is made up ones\n",
        "            image[left:left+context_shape[0], left:left+context_shape[1], 0] = self.mean_bgr[0] # put in mean values in this center\n",
        "            image[left:left+context_shape[0], left:left+context_shape[1], 1] = self.mean_bgr[1] # put in mean values in this center\n",
        "            image[left:left+context_shape[0], left:left+context_shape[1], 2] = self.mean_bgr[2] # put in mean values in this center\n",
        "\n",
        "        else:\n",
        "            orig_image = copy.deepcopy(image)\n",
        "            for c_ in range(self.context_count):\n",
        "                row = torch.LongTensor(1).random_(0, image.shape[0]-context_shape[0]-1)[0] # all valid locations for the left corner\n",
        "                col = torch.LongTensor(1).random_(0, image.shape[1]-context_shape[1]-1)[0] # all valid locations for the left corner\n",
        "                context_mask[:, row:row+context_shape[0], col:col+context_shape[1]] = 1\n",
        "                image[row:row+context_shape[0], col:col+context_shape[1], 0] = self.mean_bgr[0]\n",
        "                image[row:row+context_shape[0], col:col+context_shape[1], 1] = self.mean_bgr[1]\n",
        "                image[row:row+context_shape[0], col:col+context_shape[1], 2] = self.mean_bgr[2]\n",
        "\n",
        "\n",
        "        return self.transform_image(image), self.transform_mask(context_mask), self.transform_context(orig_image)\n",
        "\n",
        "    def transform_image(self, image):\n",
        "        # normalize the image by subtracting mean\n",
        "        # why no need to divide by deviation?\n",
        "        image = image.astype(np.float64)\n",
        "        image -= self.mean_bgr\n",
        "        image = image.transpose(2, 0, 1) # torch tensors are (batch,channel,row,col)\n",
        "        image = torch.from_numpy(image.copy()).float() \n",
        "\n",
        "        return image\n",
        "\n",
        "    def transform_mask(self, mask):\n",
        "        \n",
        "        mask = torch.from_numpy(mask.copy()).float() # convert to tensor\n",
        "\n",
        "        return mask\n",
        "\n",
        "    def transform_context(self, context):\n",
        "        # normalize the context by subtracting mean\n",
        "        # divide standard deviation\n",
        "        \n",
        "        context = context.astype(np.float64)\n",
        "        context -= self.mean_bgr\n",
        "        context[:,:,0] /= 3*self.std_bgr[0]\n",
        "        context[:,:,1] /= 3*self.std_bgr[1]\n",
        "        context[:,:,2] /= 3*self.std_bgr[2]\n",
        "\n",
        "\n",
        "        context[context>1] = 1 # limit values to -1 to 1\n",
        "        context[context<-1] = -1\n",
        "\n",
        "        context = context.transpose(2, 0, 1) \n",
        "        context = torch.from_numpy(context.copy()).float()\n",
        "\n",
        "        return context"
      ],
      "execution_count": 0,
      "outputs": []
    },
    {
      "cell_type": "code",
      "metadata": {
        "id": "z6aRJxXQsUTx",
        "colab_type": "code",
        "colab": {}
      },
      "source": [
        "train_loader = torch.utils.data.DataLoader(ContextInpaintingDataset(img_root = train_img_root,\n",
        "                                                                  image_list = train_image_list, mirror = True),\n",
        "                                           batch_size=16, num_workers=2, shuffle = True, pin_memory=False)\n",
        "\n",
        "val_loader = torch.utils.data.DataLoader(ContextInpaintingDataset(img_root = val_img_root,\n",
        "                                                                  image_list = val_image_list, mirror = True,split='val'),\n",
        "                                           batch_size=16, num_workers=2, shuffle = False, pin_memory=False)"
      ],
      "execution_count": 0,
      "outputs": []
    },
    {
      "cell_type": "markdown",
      "metadata": {
        "id": "swUP4jcx2j2_",
        "colab_type": "text"
      },
      "source": [
        "An encoder-decoder architecture with 4 convolution layers each is sued. Each convolution layer (except the last layer) is followed by BatchNorm and ReLU. The context inpainting technique is used to pre-train the encoder and the decoder in a self-supervised way."
      ]
    },
    {
      "cell_type": "code",
      "metadata": {
        "id": "SiR9ihS6sexb",
        "colab_type": "code",
        "colab": {}
      },
      "source": [
        "net = encoder_decoder().cuda()\n",
        "tanh = nn.Tanh() # to make the output within (-1 to 1)\n",
        "experiment = 'image inpainting'"
      ],
      "execution_count": 0,
      "outputs": []
    },
    {
      "cell_type": "code",
      "metadata": {
        "id": "6dNqhe59v89j",
        "colab_type": "code",
        "outputId": "dacc9343-b57c-4f85-9575-482c18ac5eda",
        "colab": {
          "base_uri": "https://localhost:8080/",
          "height": 34
        }
      },
      "source": [
        "print('Net params (M): ', param_counts(net)/(1000000.0))"
      ],
      "execution_count": 0,
      "outputs": [
        {
          "output_type": "stream",
          "text": [
            "Net params (M):  0.121251\n"
          ],
          "name": "stdout"
        }
      ]
    },
    {
      "cell_type": "code",
      "metadata": {
        "id": "ddqXUMsFwJ7-",
        "colab_type": "code",
        "colab": {}
      },
      "source": [
        "use_cuda = torch.cuda.is_available()\n",
        "best_loss = 9999  # best test accuracy"
      ],
      "execution_count": 0,
      "outputs": []
    },
    {
      "cell_type": "code",
      "metadata": {
        "id": "wneirwH2wMN-",
        "colab_type": "code",
        "outputId": "4b75ae99-a2ca-40e6-cc08-e9d60cb59fef",
        "colab": {
          "base_uri": "https://localhost:8080/",
          "height": 1000
        }
      },
      "source": [
        "optimizer = optim.SGD(net.parameters(), lr=0.1, momentum=0.9, weight_decay=0.0005)\n",
        "lr_scheduler = optim.lr_scheduler.MultiStepLR(optimizer, milestones = [30,40], gamma=0.1, last_epoch=-1) # learning rate starts from 0.1, 0.01 from 30, 0.001 from 40\n",
        "trends = {'train_loss':[],\n",
        "         'val_loss':[]}\n",
        "for epoch in range(0, 50):\n",
        "    \n",
        "    '''\n",
        "    Train\n",
        "    '''\n",
        "    \n",
        "    print('\\nTrain epoch: %d' % epoch)\n",
        "    net.train()\n",
        "    train_loss = 0\n",
        "    for batch_idx, (inputs, masks, contexts) in enumerate(train_loader):\n",
        "        if use_cuda:\n",
        "            inputs, masks, contexts = inputs.cuda(), masks.cuda(), contexts.cuda()\n",
        "        optimizer.zero_grad()\n",
        "#         inputs = Variable(inputs)\n",
        "#         masks = Variable(masks)\n",
        "#         contexts = Variable(contexts)\n",
        "        outputs = tanh(net(inputs))\n",
        "        \n",
        "        # no adversarial loss (for this experiment)\n",
        "        # look closely at the masked regions\n",
        "        # and less importance is given to the rest of the image (to keep the results smooth)\n",
        "        loss = 0.99*torch.mean(torch.mul((outputs - contexts)**2, masks)) \\\n",
        "        + 0.01*torch.mean(torch.mul((outputs - contexts)**2, 1-masks))\n",
        "        \n",
        "        \n",
        "        loss.backward()\n",
        "        optimizer.step()\n",
        "        train_loss += loss.item()\n",
        "   \n",
        "    train_loss = (train_loss/(batch_idx+1))\n",
        "    print('Loss: %f '% train_loss)\n",
        "    \n",
        "    '''\n",
        "    Val\n",
        "    '''\n",
        "    print('\\nVal epoch: %d' % epoch)\n",
        "    net.eval()\n",
        "    val_loss = 0\n",
        "    for batch_idx, (inputs, masks, contexts) in enumerate(val_loader):\n",
        "        if use_cuda:\n",
        "            inputs, masks, contexts = inputs.cuda(), masks.cuda(), contexts.cuda()\n",
        "#         inputs = Variable(inputs)\n",
        "#         masks = Variable(masks)\n",
        "#         contexts = Variable(contexts)\n",
        "        outputs = tanh(net(inputs))\n",
        "        loss = 0.99*torch.mean(torch.mul((outputs - contexts)**2, masks)) + 0.01*torch.mean(torch.mul((outputs - contexts)**2, 1-masks))\n",
        "        val_loss += loss.item()\n",
        "    val_loss = (val_loss/(batch_idx+1))\n",
        "    print('Loss: %f '% val_loss)\n",
        "    # Save checkpoint.\n",
        "    if val_loss < best_loss:\n",
        "        print('Saving..')\n",
        "        state = {'net': net}\n",
        "        if not os.path.isdir(DATA_ROOT + 'checkpoint'):\n",
        "            os.mkdir(DATA_ROOT + 'checkpoint')\n",
        "        torch.save(state, DATA_ROOT + 'checkpoint/'+experiment+'ckpt.t7')\n",
        "        best_loss = val_loss\n",
        "    trends['train_loss'].append(train_loss)\n",
        "    trends['val_loss'].append(val_loss)\n",
        "    '''\n",
        "    lr scheduler step\n",
        "    '''\n",
        "    lr_scheduler.step()"
      ],
      "execution_count": 0,
      "outputs": [
        {
          "output_type": "stream",
          "text": [
            "\n",
            "Train epoch: 0\n"
          ],
          "name": "stdout"
        },
        {
          "output_type": "stream",
          "text": [
            "/usr/local/lib/python3.6/dist-packages/torch/nn/functional.py:2539: UserWarning: Default upsampling behavior when mode=bilinear is changed to align_corners=False since 0.4.0. Please specify align_corners=True if the old behavior is desired. See the documentation of nn.Upsample for details.\n",
            "  \"See the documentation of nn.Upsample for details.\".format(mode))\n"
          ],
          "name": "stderr"
        },
        {
          "output_type": "stream",
          "text": [
            "Loss: 0.006495 \n",
            "\n",
            "Val epoch: 0\n",
            "Loss: 0.004398 \n",
            "Saving..\n",
            "\n",
            "Train epoch: 1\n",
            "Loss: 0.004161 \n",
            "\n",
            "Val epoch: 1\n",
            "Loss: 0.003627 \n",
            "Saving..\n",
            "\n",
            "Train epoch: 2\n",
            "Loss: 0.003680 \n",
            "\n",
            "Val epoch: 2\n",
            "Loss: 0.003333 \n",
            "Saving..\n",
            "\n",
            "Train epoch: 3\n",
            "Loss: 0.003385 \n",
            "\n",
            "Val epoch: 3\n",
            "Loss: 0.003019 \n",
            "Saving..\n",
            "\n",
            "Train epoch: 4\n",
            "Loss: 0.003190 \n",
            "\n",
            "Val epoch: 4\n",
            "Loss: 0.003191 \n",
            "\n",
            "Train epoch: 5\n",
            "Loss: 0.003030 \n",
            "\n",
            "Val epoch: 5\n",
            "Loss: 0.002812 \n",
            "Saving..\n",
            "\n",
            "Train epoch: 6\n",
            "Loss: 0.002896 \n",
            "\n",
            "Val epoch: 6\n",
            "Loss: 0.002696 \n",
            "Saving..\n",
            "\n",
            "Train epoch: 7\n",
            "Loss: 0.002729 \n",
            "\n",
            "Val epoch: 7\n",
            "Loss: 0.002638 \n",
            "Saving..\n",
            "\n",
            "Train epoch: 8\n",
            "Loss: 0.002671 \n",
            "\n",
            "Val epoch: 8\n",
            "Loss: 0.002634 \n",
            "Saving..\n",
            "\n",
            "Train epoch: 9\n",
            "Loss: 0.002604 \n",
            "\n",
            "Val epoch: 9\n",
            "Loss: 0.002438 \n",
            "Saving..\n",
            "\n",
            "Train epoch: 10\n",
            "Loss: 0.002537 \n",
            "\n",
            "Val epoch: 10\n",
            "Loss: 0.002329 \n",
            "Saving..\n",
            "\n",
            "Train epoch: 11\n",
            "Loss: 0.002404 \n",
            "\n",
            "Val epoch: 11\n",
            "Loss: 0.002644 \n",
            "\n",
            "Train epoch: 12\n",
            "Loss: 0.002356 \n",
            "\n",
            "Val epoch: 12\n",
            "Loss: 0.002247 \n",
            "Saving..\n",
            "\n",
            "Train epoch: 13\n",
            "Loss: 0.002301 \n",
            "\n",
            "Val epoch: 13\n",
            "Loss: 0.002543 \n",
            "\n",
            "Train epoch: 14\n",
            "Loss: 0.002203 \n",
            "\n",
            "Val epoch: 14\n",
            "Loss: 0.002101 \n",
            "Saving..\n",
            "\n",
            "Train epoch: 15\n",
            "Loss: 0.002162 \n",
            "\n",
            "Val epoch: 15\n",
            "Loss: 0.002307 \n",
            "\n",
            "Train epoch: 16\n",
            "Loss: 0.002128 \n",
            "\n",
            "Val epoch: 16\n",
            "Loss: 0.002120 \n",
            "\n",
            "Train epoch: 17\n",
            "Loss: 0.002105 \n",
            "\n",
            "Val epoch: 17\n",
            "Loss: 0.002227 \n",
            "\n",
            "Train epoch: 18\n",
            "Loss: 0.002076 \n",
            "\n",
            "Val epoch: 18\n",
            "Loss: 0.002163 \n",
            "\n",
            "Train epoch: 19\n",
            "Loss: 0.002044 \n",
            "\n",
            "Val epoch: 19\n",
            "Loss: 0.001979 \n",
            "Saving..\n",
            "\n",
            "Train epoch: 20\n",
            "Loss: 0.002054 \n",
            "\n",
            "Val epoch: 20\n",
            "Loss: 0.001831 \n",
            "Saving..\n",
            "\n",
            "Train epoch: 21\n",
            "Loss: 0.001977 \n",
            "\n",
            "Val epoch: 21\n",
            "Loss: 0.001946 \n",
            "\n",
            "Train epoch: 22\n",
            "Loss: 0.001993 \n",
            "\n",
            "Val epoch: 22\n",
            "Loss: 0.001832 \n",
            "\n",
            "Train epoch: 23\n",
            "Loss: 0.001909 \n",
            "\n",
            "Val epoch: 23\n",
            "Loss: 0.001996 \n",
            "\n",
            "Train epoch: 24\n",
            "Loss: 0.001932 \n",
            "\n",
            "Val epoch: 24\n",
            "Loss: 0.001834 \n",
            "\n",
            "Train epoch: 25\n",
            "Loss: 0.001919 \n",
            "\n",
            "Val epoch: 25\n",
            "Loss: 0.001978 \n",
            "\n",
            "Train epoch: 26\n",
            "Loss: 0.001962 \n",
            "\n",
            "Val epoch: 26\n",
            "Loss: 0.001957 \n",
            "\n",
            "Train epoch: 27\n",
            "Loss: 0.001877 \n",
            "\n",
            "Val epoch: 27\n",
            "Loss: 0.001869 \n",
            "\n",
            "Train epoch: 28\n",
            "Loss: 0.001858 \n",
            "\n",
            "Val epoch: 28\n",
            "Loss: 0.001712 \n",
            "Saving..\n",
            "\n",
            "Train epoch: 29\n",
            "Loss: 0.001894 \n",
            "\n",
            "Val epoch: 29\n",
            "Loss: 0.001696 \n",
            "Saving..\n",
            "\n",
            "Train epoch: 30\n",
            "Loss: 0.001661 \n",
            "\n",
            "Val epoch: 30\n",
            "Loss: 0.001527 \n",
            "Saving..\n",
            "\n",
            "Train epoch: 31\n",
            "Loss: 0.001594 \n",
            "\n",
            "Val epoch: 31\n",
            "Loss: 0.001480 \n",
            "Saving..\n",
            "\n",
            "Train epoch: 32\n",
            "Loss: 0.001609 \n",
            "\n",
            "Val epoch: 32\n",
            "Loss: 0.001511 \n",
            "\n",
            "Train epoch: 33\n",
            "Loss: 0.001577 \n",
            "\n",
            "Val epoch: 33\n",
            "Loss: 0.001499 \n",
            "\n",
            "Train epoch: 34\n",
            "Loss: 0.001576 \n",
            "\n",
            "Val epoch: 34\n",
            "Loss: 0.001510 \n",
            "\n",
            "Train epoch: 35\n",
            "Loss: 0.001568 \n",
            "\n",
            "Val epoch: 35\n",
            "Loss: 0.001458 \n",
            "Saving..\n",
            "\n",
            "Train epoch: 36\n",
            "Loss: 0.001541 \n",
            "\n",
            "Val epoch: 36\n",
            "Loss: 0.001483 \n",
            "\n",
            "Train epoch: 37\n",
            "Loss: 0.001547 \n",
            "\n",
            "Val epoch: 37\n",
            "Loss: 0.001436 \n",
            "Saving..\n",
            "\n",
            "Train epoch: 38\n",
            "Loss: 0.001544 \n",
            "\n",
            "Val epoch: 38\n",
            "Loss: 0.001419 \n",
            "Saving..\n",
            "\n",
            "Train epoch: 39\n",
            "Loss: 0.001532 \n",
            "\n",
            "Val epoch: 39\n",
            "Loss: 0.001390 \n",
            "Saving..\n",
            "\n",
            "Train epoch: 40\n",
            "Loss: 0.001518 \n",
            "\n",
            "Val epoch: 40\n",
            "Loss: 0.001439 \n",
            "\n",
            "Train epoch: 41\n",
            "Loss: 0.001520 \n",
            "\n",
            "Val epoch: 41\n",
            "Loss: 0.001418 \n",
            "\n",
            "Train epoch: 42\n",
            "Loss: 0.001500 \n",
            "\n",
            "Val epoch: 42\n",
            "Loss: 0.001408 \n",
            "\n",
            "Train epoch: 43\n",
            "Loss: 0.001503 \n",
            "\n",
            "Val epoch: 43\n",
            "Loss: 0.001465 \n",
            "\n",
            "Train epoch: 44\n",
            "Loss: 0.001501 \n",
            "\n",
            "Val epoch: 44\n",
            "Loss: 0.001522 \n",
            "\n",
            "Train epoch: 45\n",
            "Loss: 0.001485 \n",
            "\n",
            "Val epoch: 45\n",
            "Loss: 0.001490 \n",
            "\n",
            "Train epoch: 46\n",
            "Loss: 0.001515 \n",
            "\n",
            "Val epoch: 46\n",
            "Loss: 0.001361 \n",
            "Saving..\n",
            "\n",
            "Train epoch: 47\n",
            "Loss: 0.001503 \n",
            "\n",
            "Val epoch: 47\n",
            "Loss: 0.001429 \n",
            "\n",
            "Train epoch: 48\n",
            "Loss: 0.001508 \n",
            "\n",
            "Val epoch: 48\n",
            "Loss: 0.001418 \n",
            "\n",
            "Train epoch: 49\n",
            "Loss: 0.001486 \n",
            "\n",
            "Val epoch: 49\n",
            "Loss: 0.001436 \n"
          ],
          "name": "stdout"
        }
      ]
    },
    {
      "cell_type": "code",
      "metadata": {
        "id": "Gfz-tyBMwP-S",
        "colab_type": "code",
        "outputId": "9086752f-6730-419f-da0f-a180a4aee35a",
        "colab": {
          "base_uri": "https://localhost:8080/",
          "height": 269
        }
      },
      "source": [
        "plt.figure()\n",
        "plt.plot(trends['train_loss'],color='b',label='train_loss')\n",
        "plt.plot(trends['val_loss'],color='g',label='val_loss')\n",
        "plt.legend()\n",
        "plt.show()"
      ],
      "execution_count": 0,
      "outputs": [
        {
          "output_type": "display_data",
          "data": {
            "image/png": "[encoded data removed]",
            "text/plain": [
              "<Figure size 432x288 with 1 Axes>"
            ]
          },
          "metadata": {
            "tags": []
          }
        }
      ]
    },
    {
      "cell_type": "code",
      "metadata": {
        "id": "oTHJ9jFbwcGx",
        "colab_type": "code",
        "outputId": "f8b0b80c-eada-4d23-d972-20463ed966b4",
        "colab": {
          "base_uri": "https://localhost:8080/",
          "height": 70
        }
      },
      "source": [
        "iter_val_loader = iter(val_loader)\n",
        "inputs, masks, contexts = next(iter_val_loader)\n",
        "if use_cuda:\n",
        "    inputs, masks, contexts = inputs.cuda(), masks.cuda(), contexts.cuda()\n",
        "#         inputs = Variable(inputs)\n",
        "#         masks = Variable(masks)\n",
        "#         contexts = Variable(contexts)\n",
        "outputs = tanh(net(inputs))"
      ],
      "execution_count": 0,
      "outputs": [
        {
          "output_type": "stream",
          "text": [
            "/usr/local/lib/python3.6/dist-packages/torch/nn/functional.py:2539: UserWarning: Default upsampling behavior when mode=bilinear is changed to align_corners=False since 0.4.0. Please specify align_corners=True if the old behavior is desired. See the documentation of nn.Upsample for details.\n",
            "  \"See the documentation of nn.Upsample for details.\".format(mode))\n"
          ],
          "name": "stderr"
        }
      ]
    },
    {
      "cell_type": "code",
      "metadata": {
        "id": "1rQb9AyzwfWE",
        "colab_type": "code",
        "outputId": "6b1e3795-699e-49c2-da30-6e0d5dd5508f",
        "colab": {
          "base_uri": "https://localhost:8080/",
          "height": 314
        }
      },
      "source": [
        "f,ax = plt.subplots(3)\n",
        "for i,(t,n) in enumerate(zip([inputs,contexts,outputs],['inputs','contexts','outputs'])):\n",
        "    im = t.detach().cpu().numpy()[0]\n",
        "    im = np.transpose(im,(1,2,0))\n",
        "    if n == 'outputs':\n",
        "        im = (im+1)/2.\n",
        "    else:\n",
        "        mean_bgr = np.array([104.00698793, 116.66876762, 122.67891434])/255. # because we are reading using cv2\n",
        "        std_bgr = np.array([0.229, 0.224, 0.225])\n",
        "        \n",
        "        im = im * 3*std_bgr[None,None,:]\n",
        "        \n",
        "    im = im[:,:,::-1]\n",
        "\n",
        "    ax[i].imshow(im)\n",
        "    ax[i].title.set_text(n)\n",
        "plt.show()"
      ],
      "execution_count": 0,
      "outputs": [
        {
          "output_type": "stream",
          "text": [
            "Clipping input data to the valid range for imshow with RGB data ([0..1] for floats or [0..255] for integers).\n",
            "Clipping input data to the valid range for imshow with RGB data ([0..1] for floats or [0..255] for integers).\n"
          ],
          "name": "stderr"
        },
        {
          "output_type": "display_data",
          "data": {
            "image/png": "[encoded data removed]",
            "text/plain": [
              "<Figure size 432x288 with 3 Axes>"
            ]
          },
          "metadata": {
            "tags": []
          }
        }
      ]
    },
    {
      "cell_type": "code",
      "metadata": {
        "id": "In6fWLxUwjUc",
        "colab_type": "code",
        "colab": {}
      },
      "source": [
        "output_im.shape"
      ],
      "execution_count": 0,
      "outputs": []
    }
  ]
}